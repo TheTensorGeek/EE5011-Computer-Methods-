{
 "cells": [
  {
   "cell_type": "code",
   "execution_count": 54,
   "metadata": {},
   "outputs": [],
   "source": [
    "from scipy import *\n",
    "from matplotlib.pyplot import *\n",
    "import os\n",
    "import re \n",
    "import scipy.integrate as intg\n",
    "import scipy.special as sp\n",
    "import numpy as np\n",
    "\n",
    "def polint(datax, datay, x):\n",
    "    \"\"\"\n",
    "    Finds an interpolated value using Neville's algorithm.\n",
    "    Input\n",
    "      datax: input x's in a list of size n\n",
    "      datay: input y's in a list of size n\n",
    "      x: the x value used for interpolation\n",
    "    Output\n",
    "      p[0]: the polynomial of degree n\n",
    "    \"\"\"\n",
    "    n = len(datax)\n",
    "    p = n*[0]\n",
    "    for k in range(n):\n",
    "        for i in range(n-k):\n",
    "            if k == 0:\n",
    "                p[i] = datay[i]\n",
    "            else:\n",
    "                p[i] = ((x-datax[i+k])*p[i]+ \\\n",
    "                        (datax[i]-x)*p[i+1])/ \\\n",
    "                        (datax[i]-datax[i+k])\n",
    "    return p[0]\n",
    "\n",
    "\n",
    "    np.datax=linspace(0,2*pi,10)\n",
    "    np.datay=sin(datax)\n",
    "    np.x=linspace(-pi,3*pi,501)\n",
    "    np.y=polint(datax,datay,x) \n",
    "    \n",
    "    figure(1)\n",
    "    plot(datax,datay,'ro',x,y,'r',x,sin(x),'g')\n",
    "    title(\"Interpolating sinx\")\n",
    "    legend ([\"Table values\",\"Interpolated values\",\"True function\"])\n",
    "    show()\n",
    "    "
   ]
  },
  {
   "cell_type": "code",
   "execution_count": null,
   "metadata": {},
   "outputs": [],
   "source": []
  }
 ],
 "metadata": {
  "kernelspec": {
   "display_name": "Python 3",
   "language": "python",
   "name": "python3"
  },
  "language_info": {
   "codemirror_mode": {
    "name": "ipython",
    "version": 3
   },
   "file_extension": ".py",
   "mimetype": "text/x-python",
   "name": "python",
   "nbconvert_exporter": "python",
   "pygments_lexer": "ipython3",
   "version": "3.8.5"
  }
 },
 "nbformat": 4,
 "nbformat_minor": 4
}
